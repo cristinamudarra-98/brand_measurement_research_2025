{
 "cells": [
  {
   "cell_type": "code",
   "execution_count": null,
   "metadata": {},
   "outputs": [],
   "source": [
    "import os\n",
    "import yaml\n",
    "import pandas as pd\n",
    "from pathlib import Path\n",
    "import pytensor.tensor as pt \n",
    "import warnings\n",
    "import arviz as az\n",
    "import plotly.io as pio\n",
    "import matplotlib.pyplot as plt\n",
    "import pymc as pm\n",
    "from IPython.display import Markdown, display\n",
    "import numpy as np\n",
    "import plotly.graph_objects as go\n",
    "import json\n",
    "from sklearn.metrics import r2_score, mean_squared_error\n",
    "from sklearn.model_selection import train_test_split\n",
    "from tabulate import tabulate\n",
    "import pandas as pd\n",
    "import numpy as np\n",
    "from sklearn.preprocessing import MaxAbsScaler, MinMaxScaler\n",
    "pio.renderers.default = \"plotly_mimetype+notebook+vscode\"\n",
    "\n",
    "pd.set_option('display.max_columns', None)\n",
    "RANDOM_SEED = 69\n",
    "\n",
    "warnings.filterwarnings('ignore')\n",
    "if 'base_dir' not in globals():\n",
    "    base_dir = Path.cwd()\n",
    "main_dir = base_dir.parent.parent\n",
    "if Path.cwd() != main_dir:\n",
    "    os.chdir(main_dir)\n",
    "\n",
    "from src.helpers.mediator_bayesian_helpers import *"
   ]
  },
  {
   "cell_type": "markdown",
   "metadata": {},
   "source": [
    "# Master Variables"
   ]
  },
  {
   "cell_type": "code",
   "execution_count": null,
   "metadata": {},
   "outputs": [],
   "source": [
    "def load_config(config_path='notebooks/modeling/config_files/14022025_SPLIT_EMEA_MEDIATOR_DAV.yml'):\n",
    "    with open(config_path, 'r') as file:\n",
    "        config = yaml.safe_load(file)\n",
    "    return config\n",
    "\n",
    "config = load_config()\n",
    "date_column = config['variables']['date_column'][0]\n",
    "start_date = config['data']['start_date']\n",
    "end_date = config['data']['end_date']\n",
    "dep_var = config['variables']['dep_var']\n",
    "mediator_var = config['variables']['mediator_var']\n",
    "dependent_variable_seasonality = config['data']['dependent_variable_seasonality']\n",
    "dependent_variable_trend = config['data']['dependent_variable_trend']\n",
    "mediator_variable_trend = config['data']['mediator_variable_trend']\n",
    "mediator_variable_seasonality = config['data']['mediator_variable_seasonality']\n",
    "\n"
   ]
  },
  {
   "cell_type": "markdown",
   "metadata": {},
   "source": [
    "# Read datamaster"
   ]
  },
  {
   "cell_type": "code",
   "execution_count": null,
   "metadata": {},
   "outputs": [],
   "source": [
    "data = pd.read_excel(config['data']['file_path'])\n",
    "data = data.dropna(axis=1, how='all')\n",
    "data = data.loc[:, (data != 0).any(axis=0)]\n",
    "data.head()\n"
   ]
  },
  {
   "cell_type": "code",
   "execution_count": null,
   "metadata": {},
   "outputs": [],
   "source": [
    "plot_data(data, date_column=date_column, scale_data=True, plot_height=800, columns_to_plot=data.drop(columns = [date_column]).columns)"
   ]
  },
  {
   "cell_type": "markdown",
   "metadata": {},
   "source": [
    "# Filter date"
   ]
  },
  {
   "cell_type": "code",
   "execution_count": null,
   "metadata": {},
   "outputs": [],
   "source": [
    "data[date_column] = pd.to_datetime(data[date_column])\n",
    "data = data[(data[date_column] < end_date) & (data[date_column] > start_date)] \n",
    "model_df = data[(data[date_column] < end_date) & (data[date_column] > start_date)]  \n",
    "model_df.head()"
   ]
  },
  {
   "cell_type": "markdown",
   "metadata": {},
   "source": [
    "# Plot playback data"
   ]
  },
  {
   "cell_type": "code",
   "execution_count": null,
   "metadata": {},
   "outputs": [],
   "source": [
    "playback_vars = model_df.filter(regex='playback').columns.to_list() + [dep_var] + [mediator_var]\n",
    "heatmap_figure = plot_correlation_matrix(model_df, playback_vars)\n",
    "plot_data(model_df, date_column=date_column, scale_data=True, plot_height=800, columns_to_plot=playback_vars)"
   ]
  },
  {
   "cell_type": "markdown",
   "metadata": {},
   "source": [
    "# Marketing data"
   ]
  },
  {
   "cell_type": "code",
   "execution_count": null,
   "metadata": {},
   "outputs": [],
   "source": [
    "marketing_vars = model_df.filter(regex='marketing').columns.to_list()  + [dep_var] + [mediator_var]\n",
    "heatmap_figure = plot_correlation_matrix(model_df, marketing_vars)\n",
    "plot_data(model_df, date_column=date_column, scale_data=True, plot_height=800, columns_to_plot=marketing_vars)"
   ]
  },
  {
   "cell_type": "markdown",
   "metadata": {},
   "source": [
    "# Campaigns Data"
   ]
  },
  {
   "cell_type": "code",
   "execution_count": null,
   "metadata": {},
   "outputs": [],
   "source": [
    "campaigns_vars = model_df.filter(regex='campaign').columns.to_list()\n",
    "if len(campaigns_vars)!=0:\n",
    "    n_splits = 3\n",
    "    split_points = [i * len(campaigns_vars) // n_splits for i in range(n_splits + 1)]\n",
    "    for i in range(n_splits):\n",
    "        split_vars = [dep_var] + [mediator_var] + campaigns_vars[split_points[i]:split_points[i+1]]\n",
    "        heatmap_figure = plot_correlation_matrix(\n",
    "            model_df, \n",
    "            split_vars, \n",
    "            title=f\" Part {i+1}\"\n",
    "        )\n",
    "\n",
    "    plot_data(model_df, date_column=date_column, scale_data=True, plot_height=800, columns_to_plot=campaigns_vars)"
   ]
  },
  {
   "cell_type": "markdown",
   "metadata": {},
   "source": [
    "# Competitor data"
   ]
  },
  {
   "cell_type": "code",
   "execution_count": null,
   "metadata": {},
   "outputs": [],
   "source": [
    "tmp_model_df = model_df.loc[:, ~model_df.columns.str.contains('snapchat', case=False)]\n",
    "comp_vars = tmp_model_df.filter(regex='competitors').columns.to_list()\n",
    "if len(comp_vars)!=0:\n",
    "    n_splits = 4\n",
    "    split_points = [i * len(comp_vars) // n_splits for i in range(n_splits + 1)]\n",
    "    for i in range(n_splits):\n",
    "        split_vars = [dep_var] + [mediator_var] + comp_vars[split_points[i]:split_points[i+1]]\n",
    "        heatmap_figure = plot_correlation_matrix(\n",
    "            tmp_model_df, \n",
    "            split_vars, \n",
    "            title=f\"Competitors - Part {i+1}\"\n",
    "        )\n",
    "    plot_data(\n",
    "        tmp_model_df, \n",
    "        date_column=date_column, \n",
    "        scale_data=True, \n",
    "        plot_height=800, \n",
    "        columns_to_plot=comp_vars,\n",
    "    )"
   ]
  },
  {
   "cell_type": "markdown",
   "metadata": {},
   "source": [
    "# Trend"
   ]
  },
  {
   "cell_type": "code",
   "execution_count": null,
   "metadata": {},
   "outputs": [],
   "source": [
    "trend_feature = pd.Series(range(len(model_df)), index=model_df.index)\n",
    "model_df[\"dep_variable_trend_feature\"] = trend_feature\n",
    "model_df[\"mediator_variable_trend_feature\"] = trend_feature"
   ]
  },
  {
   "cell_type": "markdown",
   "metadata": {},
   "source": [
    "# Premium"
   ]
  },
  {
   "cell_type": "code",
   "execution_count": null,
   "metadata": {},
   "outputs": [],
   "source": [
    "premium_vars = model_df.filter(regex='premium').columns.to_list() + [dep_var] + [mediator_var]\n",
    "heatmap_figure = plot_correlation_matrix(tmp_model_df, premium_vars)\n",
    "plot_data(tmp_model_df, date_column=date_column, scale_data=True, plot_height=800, columns_to_plot=premium_vars)"
   ]
  },
  {
   "cell_type": "markdown",
   "metadata": {},
   "source": [
    "#### Nan Checks"
   ]
  },
  {
   "cell_type": "code",
   "execution_count": null,
   "metadata": {},
   "outputs": [],
   "source": [
    "model_df.isna().sum()[model_df.isna().sum() != 0]"
   ]
  },
  {
   "cell_type": "markdown",
   "metadata": {},
   "source": [
    "## Features Preparation Dependent Variable"
   ]
  },
  {
   "cell_type": "code",
   "execution_count": null,
   "metadata": {},
   "outputs": [],
   "source": [
    "original_paid_features = sorted(config['variables']['original_paid_features'])\n",
    "original_organic_features = sorted(config['variables']['original_organic_features'])\n",
    "original_competitor_features = sorted(config['variables']['original_competitor_features'])\n",
    "original_control_features = sorted(config['variables']['original_control_features'])\n",
    "EXCLUDED_FEATURES = sorted([])\n",
    "\n",
    "all_original_features = sorted(original_paid_features +\n",
    "                               original_organic_features +\n",
    "                               original_competitor_features + \n",
    "                               original_control_features)\n",
    "\n",
    "FEATURES = {\n",
    "    \"features_all_possible\": all_original_features,\n",
    "    \"features_included\": sorted(set(all_original_features) - set(EXCLUDED_FEATURES)),\n",
    "    \"features_excluded\": EXCLUDED_FEATURES,\n",
    "    \"features_paid\": sorted(set(original_paid_features) - set(EXCLUDED_FEATURES)),\n",
    "    \"features_organic\": sorted(set(original_organic_features) - set(EXCLUDED_FEATURES)),\n",
    "    \"features_competitor\": sorted(set(original_competitor_features) - set(EXCLUDED_FEATURES)),\n",
    "    \"features_control\": sorted(set(original_control_features) - set(EXCLUDED_FEATURES)),\n",
    "\n",
    "    \n",
    "    \n",
    "} \n",
    "y = model_df[dep_var].copy()\n",
    "X = model_df[FEATURES[\"features_included\"] + [date_column, \"dep_variable_trend_feature\"]].copy()\n",
    "\n",
    "\n",
    "X.index = model_df.date.copy()"
   ]
  },
  {
   "cell_type": "markdown",
   "metadata": {},
   "source": [
    "## Feature Preparation Mediator"
   ]
  },
  {
   "cell_type": "code",
   "execution_count": null,
   "metadata": {},
   "outputs": [],
   "source": [
    "mediator_paid_features = sorted(config['variables']['mediator_original_paid_features'])\n",
    "mediator_organic_features = sorted(config['variables']['mediator_original_organic_features'])\n",
    "mediator_competitor_features = sorted(config['variables']['mediator_original_competitor_features'])\n",
    "mediator_control_features = sorted(config['variables']['mediator_original_control_features'])\n",
    "EXCLUDED_MEDIATOR_FEATURES = sorted([])  # Update if any mediator features need to be excluded\n",
    "\n",
    "all_mediator_features = sorted(\n",
    "    mediator_paid_features +\n",
    "    mediator_organic_features +\n",
    "    mediator_competitor_features +\n",
    "    mediator_control_features\n",
    ")\n",
    "\n",
    "MEDIATOR_FEATURES = {\n",
    "    \"mediator_features_all_possible\": all_mediator_features,\n",
    "    \"mediator_features_included\": sorted(set(all_mediator_features) - set(EXCLUDED_MEDIATOR_FEATURES)),\n",
    "    \"mediator_features_excluded\": EXCLUDED_MEDIATOR_FEATURES,\n",
    "    \"mediator_paid\": sorted(set(mediator_paid_features) - set(EXCLUDED_MEDIATOR_FEATURES)),\n",
    "    \"mediator_organic\": sorted(set(mediator_organic_features) - set(EXCLUDED_MEDIATOR_FEATURES)),\n",
    "    \"mediator_competitor\": sorted(set(mediator_competitor_features) - set(EXCLUDED_MEDIATOR_FEATURES)),\n",
    "    \"mediator_control\": sorted(set(mediator_control_features) - set(EXCLUDED_MEDIATOR_FEATURES)),\n",
    "}\n",
    "y_mediator = model_df[mediator_var].copy()\n",
    "\n",
    "features_for_mediator = MEDIATOR_FEATURES[\"mediator_features_included\"] + [date_column, \"mediator_variable_trend_feature\"]\n",
    "\n",
    "X_mediator = model_df[features_for_mediator].copy()\n",
    "X_mediator.index = model_df[date_column].copy()"
   ]
  },
  {
   "cell_type": "markdown",
   "metadata": {},
   "source": [
    "# Scaling Dep Variable And Mediator"
   ]
  },
  {
   "cell_type": "code",
   "execution_count": null,
   "metadata": {},
   "outputs": [],
   "source": [
    "SCALER_MAPPING = {\n",
    "    \"MinMaxScaler\": MinMaxScaler,\n",
    "    \"MaxAbsScaler\": MaxAbsScaler\n",
    "}\n",
    "scaling_config = config.get(\"scaling\", {})\n",
    "\n",
    "paid_scaler = SCALER_MAPPING.get(scaling_config.get(\"paid\", {}).get(\"type\"), MinMaxScaler)()\n",
    "organic_scaler = SCALER_MAPPING.get(scaling_config.get(\"organic\", {}).get(\"type\"), MinMaxScaler)()\n",
    "competitor_scaler = SCALER_MAPPING.get(scaling_config.get(\"competitor\", {}).get(\"type\"), MinMaxScaler)()\n",
    "target_scaler = SCALER_MAPPING.get(scaling_config.get(\"target\", {}).get(\"type\"), MinMaxScaler)()\n",
    "trend_scaler = MinMaxScaler()\n",
    "\n",
    "X[FEATURES[\"features_paid\"]] = paid_scaler.fit_transform(X[FEATURES[\"features_paid\"]])\n",
    "X[FEATURES[\"features_organic\"]] = organic_scaler.fit_transform(X[FEATURES[\"features_organic\"]])\n",
    "X[FEATURES[\"features_competitor\"]] = competitor_scaler.fit_transform(X[FEATURES[\"features_competitor\"]])\n",
    "\n",
    "X[\"dep_variable_trend_feature\"] = trend_scaler.fit_transform(X[[\"dep_variable_trend_feature\"]])\n",
    "\n",
    "y = target_scaler.fit_transform(y.to_numpy().reshape(-1, 1)).flatten()\n",
    "\n",
    "mediator_scaler = SCALER_MAPPING.get(scaling_config.get(\"mediator\", {}).get(\"type\"), MinMaxScaler)()\n",
    "mediator_paid_scaler = SCALER_MAPPING.get(scaling_config.get(\"mediator_paid\", {}).get(\"type\"), MinMaxScaler)()\n",
    "mediator_organic_scaler = SCALER_MAPPING.get(scaling_config.get(\"mediator_organic\", {}).get(\"type\"), MinMaxScaler)()\n",
    "mediator_competitor_scaler = SCALER_MAPPING.get(scaling_config.get(\"mediator_competitor\", {}).get(\"type\"), MinMaxScaler)()\n",
    "mediator_control_scaler = SCALER_MAPPING.get(scaling_config.get(\"mediator_control\", {}).get(\"type\"), MinMaxScaler)()\n",
    "mediator_trend_scaler = MinMaxScaler()\n",
    "\n",
    "X_mediator[MEDIATOR_FEATURES[\"mediator_paid\"]] = mediator_paid_scaler.fit_transform(X_mediator[MEDIATOR_FEATURES[\"mediator_paid\"]])\n",
    "X_mediator[MEDIATOR_FEATURES[\"mediator_organic\"]] = mediator_organic_scaler.fit_transform(X_mediator[MEDIATOR_FEATURES[\"mediator_organic\"]])\n",
    "X_mediator[MEDIATOR_FEATURES[\"mediator_competitor\"]] = mediator_competitor_scaler.fit_transform(X_mediator[MEDIATOR_FEATURES[\"mediator_competitor\"]])\n",
    "X_mediator[MEDIATOR_FEATURES[\"mediator_control\"]] = mediator_control_scaler.fit_transform(X_mediator[MEDIATOR_FEATURES[\"mediator_control\"]])\n",
    "X_mediator[\"mediator_variable_trend_feature\"] = mediator_trend_scaler.fit_transform(X_mediator[[\"mediator_variable_trend_feature\"]])\n",
    "\n",
    "y_mediator = mediator_scaler.fit_transform(y_mediator.to_numpy().reshape(-1, 1)).flatten()"
   ]
  },
  {
   "cell_type": "markdown",
   "metadata": {},
   "source": [
    "# Seasonality"
   ]
  },
  {
   "cell_type": "code",
   "execution_count": null,
   "metadata": {},
   "outputs": [],
   "source": [
    "if not pd.api.types.is_datetime64_any_dtype(X.index):\n",
    "    X.index = pd.to_datetime(X.index)\n",
    "seasonality_n_order = config['data'].get('seasonality_n_order', 0)\n",
    "SEASONALITY_CONFIG = {\"seasonality_n_order\": seasonality_n_order}\n",
    "periods = X.index.dayofyear / 365.25\n",
    "\n",
    "if seasonality_n_order > 0:\n",
    "    fourier_features = pd.DataFrame(\n",
    "        {\n",
    "            f\"{func}_order_{order}\": getattr(np, func)(2 * np.pi * periods * order)\n",
    "            for order in range(1, seasonality_n_order + 1)\n",
    "            for func in (\"sin\", \"cos\")\n",
    "        },\n",
    "        index=X.index\n",
    "    )\n",
    "    SEASONALITY_CONFIG[\"seasonality_features\"] = list(fourier_features.columns)\n",
    "    X = pd.concat([X, fourier_features], axis=1)\n",
    "else:\n",
    "    print(\"Seasonality order is 0. Skipping Fourier feature generation.\")"
   ]
  },
  {
   "cell_type": "markdown",
   "metadata": {},
   "source": [
    "## Train test split"
   ]
  },
  {
   "cell_type": "code",
   "execution_count": null,
   "metadata": {},
   "outputs": [],
   "source": [
    "X_train, X_test, y_train, y_test, unscaled_y_train, unscaled_y_test = train_test_split(\n",
    "    X, \n",
    "    y, \n",
    "    model_df[dep_var].to_numpy(),\n",
    "    test_size=config['data']['test_size'], \n",
    "    shuffle=False\n",
    ")\n",
    "X_mediator_train, X_mediator_test, y_mediator_train, y_mediator_test, unscaled_y_mediator_train, unscaled_y_mediator_test = train_test_split(\n",
    "    X_mediator, \n",
    "    y_mediator, \n",
    "    model_df[mediator_var].to_numpy(),\n",
    "    test_size=config['data']['test_size'], \n",
    "    shuffle=False\n",
    ")"
   ]
  },
  {
   "cell_type": "code",
   "execution_count": null,
   "metadata": {},
   "outputs": [],
   "source": [
    "plot_data(\n",
    "    model_df, \n",
    "    date_column=date_column, \n",
    "    scale_data=True, \n",
    "    plot_height=800,\n",
    "    columns_to_plot = X.drop(columns=[date_column]).columns.tolist() + [dep_var] + [mediator_var], \n",
    ")"
   ]
  },
  {
   "cell_type": "markdown",
   "metadata": {},
   "source": [
    "## Model\n",
    "### Parameters"
   ]
  },
  {
   "cell_type": "code",
   "execution_count": null,
   "metadata": {},
   "outputs": [],
   "source": [
    "rng = np.random.default_rng(42)\n",
    "l_max=13"
   ]
  },
  {
   "cell_type": "markdown",
   "metadata": {},
   "source": [
    "## Model Building"
   ]
  },
  {
   "cell_type": "code",
   "execution_count": null,
   "metadata": {},
   "outputs": [],
   "source": [
    "coords = {\n",
    "    \"paid\": FEATURES['features_paid'],\n",
    "    \"organic\": FEATURES['features_organic'],\n",
    "    \"competitor\": FEATURES['features_competitor'],\n",
    "    \"control\": FEATURES['features_control'],\n",
    "    \"mediator_paid\": MEDIATOR_FEATURES['mediator_paid'],\n",
    "    \"mediator_organic\": MEDIATOR_FEATURES['mediator_organic'],\n",
    "    \"mediator_competitor\": MEDIATOR_FEATURES['mediator_competitor'],\n",
    "    \"mediator_control\": MEDIATOR_FEATURES['mediator_control'],\n",
    "}\n",
    "    \n",
    "    \n",
    "if dependent_variable_seasonality:\n",
    "    coords[\"fourier_mode\"] = np.arange(len(SEASONALITY_CONFIG[\"seasonality_features\"]))\n",
    "if dependent_variable_trend:\n",
    "    coords[\"dep_variable_trend_feature\"] = X_train[\"dep_variable_trend_feature\"]\n",
    "# Create coordinate dictionaries based on feature configurations\n",
    "\n",
    "\n",
    "with pm.Model(coords=coords) as mmm:\n",
    "    mmm.add_coord(date_column, X_train.index, mutable=True)\n",
    "    paid_data = pm.MutableData(\"paid_data\",\n",
    "                               value=X_train[FEATURES['features_paid']].to_numpy(),\n",
    "                               dims=(date_column, \"paid\"))\n",
    "    \n",
    "    organic_data = pm.MutableData(\"organic_data\",\n",
    "                                  value=X_train[FEATURES['features_organic']].to_numpy(),\n",
    "                                  dims=(date_column, \"organic\"))\n",
    "    \n",
    "    competitor_data = pm.MutableData(\"competitor_data\",\n",
    "                                     value=X_train[FEATURES['features_competitor']].to_numpy(),\n",
    "                                     dims=(date_column, \"competitor\"))\n",
    "    \n",
    "    control_data = pm.MutableData(\"control_data\",\n",
    "                                 value=X_train[FEATURES['features_control']].to_numpy(),\n",
    "                                 dims=(date_column, \"control\"))\n",
    "    \n",
    "    if dependent_variable_trend:\n",
    "        trend_data = pm.MutableData(\"trend_data\",\n",
    "                                   value=X_train[\"dep_variable_trend_feature\"].to_numpy(dtype=np.float64),\n",
    "                                   dims=date_column)\n",
    "    \n",
    "    if dependent_variable_seasonality:\n",
    "        seasonality_data = pm.MutableData(\"seasonality_data\",\n",
    "                                        value=X_train[SEASONALITY_CONFIG[\"seasonality_features\"]].to_numpy(),\n",
    "                                        dims=(date_column, \"fourier_mode\"))\n",
    "    \n",
    "    y_obs_data = pm.MutableData(\"y_obs_data\",\n",
    "                                value=y_train,\n",
    "                                dims=date_column)\n",
    "    \n",
    "    mediator_paid_data = pm.MutableData(\"mediator_paid_data\",\n",
    "                                        value=X_mediator_train[MEDIATOR_FEATURES['mediator_paid']].to_numpy(),\n",
    "                                        dims=(date_column, \"mediator_paid\"))\n",
    "    \n",
    "    mediator_organic_data = pm.MutableData(\"mediator_organic_data\",\n",
    "                                           value=X_mediator_train[MEDIATOR_FEATURES['mediator_organic']].to_numpy(),\n",
    "                                           dims=(date_column, \"mediator_organic\"))\n",
    "    \n",
    "    mediator_competitor_data = pm.MutableData(\"mediator_competitor_data\",\n",
    "                                              value=X_mediator_train[MEDIATOR_FEATURES['mediator_competitor']].to_numpy(),\n",
    "                                              dims=(date_column, \"mediator_competitor\"))\n",
    "    \n",
    "    mediator_control_data = pm.MutableData(\"mediator_control_data\",\n",
    "                                           value=X_mediator_train[MEDIATOR_FEATURES['mediator_control']].to_numpy(),\n",
    "                                           dims=(date_column, \"mediator_control\"))\n",
    "    \n",
    "    if mediator_variable_trend:\n",
    "        mediator_trend_data = pm.MutableData(\"mediator_trend_data\",\n",
    "                                           value=X_mediator_train[\"mediator_variable_trend_feature\"].to_numpy(dtype=np.float64),\n",
    "                                           dims=date_column)\n",
    "    \n",
    "    mediator_obs_data = pm.MutableData(\"mediator_obs_data\",\n",
    "                                      value=y_mediator_train,\n",
    "                                      dims=date_column)\n",
    "    \n",
    "    ####### MAIN MODEL PARAMETERS\n",
    "    intercept = pm.Normal(\"intercept\", mu=0, sigma=config['priors']['intercept_sigma'])\n",
    "    \n",
    "    beta_paid_coeffs = pm.Normal(\"beta_paid_coeffs\", \n",
    "                                mu=0, \n",
    "                                sigma=config['priors']['beta_paid_coeffs_sigma'], \n",
    "                                dims=\"paid\")\n",
    "    \n",
    "    alpha_paid = pm.Beta(\"alpha_paid\", \n",
    "                        alpha=config['priors']['alpha_alpa'], \n",
    "                        beta=config['priors']['alpha_beta'], \n",
    "                        dims=\"paid\")\n",
    "    \n",
    "    beta_organic_coeffs = pm.Normal(\"beta_organic_coeffs\", \n",
    "                                   mu=0, \n",
    "                                   sigma=config['priors']['beta_organic_coeffs_sigma'], \n",
    "                                   dims=\"organic\")\n",
    "    \n",
    "    alpha_organic = pm.Beta(\"alpha_organic\", \n",
    "                          alpha=config['priors']['alpha_alpa'], \n",
    "                          beta=config['priors']['alpha_beta'], \n",
    "                          dims=\"organic\")\n",
    "    \n",
    "    sigma_beta_competitor = pm.HalfNormal(\"sigma_beta_competitor\", \n",
    "                                        sigma=config['priors']['beta_competitor_sigma'], \n",
    "                                        dims=\"competitor\")\n",
    "    \n",
    "    non_neg_beta_competitor_offset = pm.Normal(\"non_neg_beta_competitor_offset\", \n",
    "                                             mu=0, \n",
    "                                             sigma=1, \n",
    "                                             dims=\"competitor\")\n",
    "    \n",
    "    beta_competitor_coeffs = pm.Deterministic(\"beta_competitor_coeffs\", \n",
    "                                            -sigma_beta_competitor * pt.abs(non_neg_beta_competitor_offset), \n",
    "                                            dims=\"competitor\")\n",
    "    \n",
    "    beta_control_coeffs = pm.Normal(\"beta_control_coeffs\", \n",
    "                                  mu=0, \n",
    "                                  sigma=config['priors']['beta_control_coeffs_sigma'], \n",
    "                                  dims=\"control\")\n",
    "    \n",
    "    if dependent_variable_trend:\n",
    "        beta_trend = pm.HalfNormal(\"beta_trend\", sigma=config['priors']['beta_trend_sigma'])\n",
    "    \n",
    "    if dependent_variable_seasonality:\n",
    "        beta_fourier = pm.Laplace(\"beta_fourier\", \n",
    "                                 mu=0, \n",
    "                                 b=config['priors']['beta_fourier_sigma'], \n",
    "                                 dims=\"fourier_mode\")\n",
    "    \n",
    "    sigma = pm.HalfNormal(\"sigma\", sigma=1)\n",
    "    \n",
    "    paid_adstock = pm.Deterministic(\"paid_adstock\",\n",
    "                                   geometric_adstock(x=paid_data, \n",
    "                                                   alpha=alpha_paid, \n",
    "                                                   l_max=l_max, \n",
    "                                                   normalize=True),\n",
    "                                   dims=(date_column, \"paid\"))\n",
    "    \n",
    "    organic_adstock = pm.Deterministic(\"organic_adstock\",\n",
    "                                      geometric_adstock(x=organic_data, \n",
    "                                                      alpha=alpha_organic, \n",
    "                                                      l_max=l_max, \n",
    "                                                      normalize=True),\n",
    "                                      dims=(date_column, \"organic\"))\n",
    "    \n",
    "    paid_contributions = pm.Deterministic(\"paid_contributions\",\n",
    "                                        paid_adstock * beta_paid_coeffs,\n",
    "                                        dims=(date_column, \"paid\"))\n",
    "    \n",
    "    organic_contributions = pm.Deterministic(\"organic_contributions\",\n",
    "                                           organic_adstock * beta_organic_coeffs,\n",
    "                                           dims=(date_column, \"organic\"))\n",
    "    \n",
    "    competitor_contributions = pm.Deterministic(\"competitor_contributions\",\n",
    "                                              competitor_data * beta_competitor_coeffs,\n",
    "                                              dims=(date_column, \"competitor\"))\n",
    "    \n",
    "    control_contributions = pm.Deterministic(\"control_contributions\",\n",
    "                                           control_data * beta_control_coeffs,\n",
    "                                           dims=(date_column, \"control\"))\n",
    "    \n",
    "    if dependent_variable_trend:\n",
    "        trend = pm.Deterministic(\"trend\", \n",
    "                               beta_trend * trend_data, \n",
    "                               dims=date_column)\n",
    "    \n",
    "    if dependent_variable_seasonality:\n",
    "        seasonality_effect = pm.Deterministic(\"seasonality\", \n",
    "                                            pt.dot(seasonality_data, beta_fourier), \n",
    "                                            dims=date_column)\n",
    "    \n",
    "    ###### MEDIATOR MODEL PARAMETERS\n",
    "    mediator_intercept = pm.Normal(\"mediator_intercept\", mu=0, sigma=config['priors']['mediator_intercept_sigma'])\n",
    "    \n",
    "    mediator_beta_paid_coeffs = pm.Normal(\"mediator_beta_paid_coeffs\", \n",
    "                                        mu=0, \n",
    "                                        sigma=config['priors']['beta_mediator_paid_coeffs_sigma'], \n",
    "                                        dims=\"mediator_paid\")\n",
    "    \n",
    "    mediator_alpha_paid = pm.Beta(\"mediator_alpha_paid\", \n",
    "                                alpha=config['priors']['alpha_alpa'], \n",
    "                                beta=config['priors']['alpha_beta'], \n",
    "                                dims=\"mediator_paid\")\n",
    "    \n",
    "    mediator_beta_organic_coeffs = pm.Normal(\"mediator_beta_organic_coeffs\", \n",
    "                                           mu=0, \n",
    "                                           sigma=config['priors']['beta_mediator_organic_coeffs_sigma'], \n",
    "                                           dims=\"mediator_organic\")\n",
    "    \n",
    "    mediator_alpha_organic = pm.Beta(\"mediator_alpha_organic\", \n",
    "                                   alpha=config['priors']['alpha_alpa'], \n",
    "                                   beta=config['priors']['alpha_beta'], \n",
    "                                   dims=\"mediator_organic\")\n",
    "    \n",
    "    mediator_sigma_beta_competitor = pm.HalfNormal(\"mediator_sigma_beta_competitor\", \n",
    "                                                 sigma=config['priors']['beta_mediator_competitor_sigma'], \n",
    "                                                 dims=\"mediator_competitor\")\n",
    "    \n",
    "    mediator_non_neg_beta_competitor_offset = pm.Normal(\"mediator_non_neg_beta_competitor_offset\", \n",
    "                                                      mu=0, \n",
    "                                                      sigma=1, \n",
    "                                                      dims=\"mediator_competitor\")\n",
    "    \n",
    "    mediator_beta_competitor_coeffs = pm.Deterministic(\"mediator_beta_competitor_coeffs\", \n",
    "                                                     -mediator_sigma_beta_competitor * pt.abs(mediator_non_neg_beta_competitor_offset), \n",
    "                                                     dims=\"mediator_competitor\")\n",
    "    \n",
    "    mediator_beta_control_coeffs = pm.Normal(\"mediator_beta_control_coeffs\", \n",
    "                                           mu=0, \n",
    "                                           sigma=config['priors']['beta_mediator_control_coeffs_sigma'], \n",
    "                                           dims=\"mediator_control\")\n",
    "    \n",
    "    if mediator_variable_trend:\n",
    "        mediator_beta_trend = pm.HalfNormal(\"mediator_beta_trend\", \n",
    "                                          sigma=config['priors']['beta_mediator_trend_sigma'])\n",
    "    \n",
    "    if mediator_variable_seasonality:\n",
    "        mediator_beta_fourier = pm.Laplace(\"mediator_beta_fourier\", \n",
    "                                         mu=0, \n",
    "                                         b=config['priors']['beta_mediator_fourier_sigma'], \n",
    "                                         dims=\"fourier_mode\")\n",
    "    \n",
    "    mediator_sigma = pm.HalfNormal(\"mediator_sigma\", sigma=1)\n",
    "    \n",
    "    mediator_paid_adstock = pm.Deterministic(\"mediator_paid_adstock\",\n",
    "                                           geometric_adstock(x=mediator_paid_data, \n",
    "                                                           alpha=mediator_alpha_paid, \n",
    "                                                           l_max=l_max, \n",
    "                                                           normalize=True),\n",
    "                                           dims=(date_column, \"mediator_paid\"))\n",
    "    \n",
    "    mediator_organic_adstock = pm.Deterministic(\"mediator_organic_adstock\",\n",
    "                                              geometric_adstock(x=mediator_organic_data, \n",
    "                                                              alpha=mediator_alpha_organic, \n",
    "                                                              l_max=l_max, \n",
    "                                                              normalize=True),\n",
    "                                              dims=(date_column, \"mediator_organic\"))\n",
    "    \n",
    "    mediator_paid_contributions = pm.Deterministic(\"mediator_paid_contributions\",\n",
    "                                                 mediator_paid_adstock * mediator_beta_paid_coeffs,\n",
    "                                                 dims=(date_column, \"mediator_paid\"))\n",
    "    \n",
    "    mediator_organic_contributions = pm.Deterministic(\"mediator_organic_contributions\",\n",
    "                                                    mediator_organic_adstock * mediator_beta_organic_coeffs,\n",
    "                                                    dims=(date_column, \"mediator_organic\"))\n",
    "    \n",
    "    mediator_competitor_contributions = pm.Deterministic(\"mediator_competitor_contributions\",\n",
    "                                                       mediator_competitor_data * mediator_beta_competitor_coeffs,\n",
    "                                                       dims=(date_column, \"mediator_competitor\"))\n",
    "    \n",
    "    mediator_control_contributions = pm.Deterministic(\"mediator_control_contributions\",\n",
    "                                                    mediator_control_data * mediator_beta_control_coeffs,\n",
    "                                                    dims=(date_column, \"mediator_control\"))\n",
    "    \n",
    "    mediator_core_components = [\n",
    "        mediator_paid_contributions.sum(axis=-1),\n",
    "        mediator_organic_contributions.sum(axis=-1),\n",
    "        mediator_competitor_contributions.sum(axis=-1),\n",
    "        mediator_control_contributions.sum(axis=-1),\n",
    "        mediator_intercept\n",
    "    ]\n",
    "    \n",
    "    if mediator_variable_trend:\n",
    "        mediator_trend = pm.Deterministic(\"mediator_trend\", \n",
    "                                        mediator_beta_trend * mediator_trend_data, \n",
    "                                        dims=date_column)\n",
    "        mediator_core_components.append(mediator_trend)\n",
    "    \n",
    "    if mediator_variable_seasonality:\n",
    "        mediator_seasonality_effect = pm.Deterministic(\"mediator_seasonality\", \n",
    "                                                     pt.dot(seasonality_data, mediator_beta_fourier), \n",
    "                                                     dims=date_column)\n",
    "        mediator_core_components.append(mediator_seasonality_effect)\n",
    "    \n",
    "    mu_mediator = pm.Deterministic(\"mu_mediator\",\n",
    "                                  sum(mediator_core_components),\n",
    "                                  dims=date_column)\n",
    "    \n",
    "    mediator_obs = pm.Normal(\"mediator_obs\", \n",
    "                           mu=mu_mediator, \n",
    "                           sigma=mediator_sigma, \n",
    "                           observed=mediator_obs_data, \n",
    "                           dims=date_column)\n",
    "    \n",
    "    beta_mediator_effect = pm.Normal(\"beta_mediator_effect\", mu=0, sigma=1)\n",
    "    \n",
    "    #standardized_mediator = pm.Deterministic(\n",
    "    #    \"standardized_mediator\",\n",
    "    #    (mu_mediator - pt.mean(mu_mediator)) / (pt.std(mu_mediator) + 1e-8),\n",
    "    #    dims=date_column\n",
    "    #)\n",
    "    \n",
    "    mu_core_components = [\n",
    "        paid_contributions.sum(axis=-1),\n",
    "        organic_contributions.sum(axis=-1),\n",
    "        competitor_contributions.sum(axis=-1),\n",
    "        control_contributions.sum(axis=-1),\n",
    "        intercept,\n",
    "        beta_mediator_effect * mu_mediator\n",
    "    ]\n",
    "    \n",
    "    if dependent_variable_trend:\n",
    "        mu_core_components.append(trend)\n",
    "    \n",
    "    if dependent_variable_seasonality:\n",
    "        mu_core_components.append(seasonality_effect)\n",
    "    \n",
    "    # FINAL MODEL: Combine Main and Mediator Effects\n",
    "    mu_combined = pm.Deterministic(\"mu\",\n",
    "                                  sum(mu_core_components),\n",
    "                                  dims=date_column)\n",
    "    \n",
    "    y_obs = pm.Normal(\"y_obs\", \n",
    "                    mu=mu_combined, \n",
    "                    sigma=sigma, \n",
    "                    observed=y_obs_data, \n",
    "                    dims=date_column)\n",
    "    \n",
    "    mmm_prior_predictive = pm.sample_prior_predictive(samples=1000, random_seed=rng)"
   ]
  },
  {
   "cell_type": "code",
   "execution_count": null,
   "metadata": {},
   "outputs": [],
   "source": [
    "pm.model_to_graphviz(mmm)\n"
   ]
  },
  {
   "cell_type": "code",
   "execution_count": null,
   "metadata": {},
   "outputs": [],
   "source": [
    "rng = np.random.default_rng(42)\n",
    "with mmm:\n",
    "    trace = pm.sample(draws=1000, # number of samples to draw from posterior distribution\n",
    "                      tune=500, # number of burn-in samples, samples that are discarded \n",
    "                      chains=4, # number Markov Chains (separate sequences of samples to pull)\n",
    "                      cores=7, # how many cores to run the model with, defaults to same number of chains\n",
    "                      target_accept=0.9, # default is 0.8, increasing gives models more chances to not get blocked (stuck in some param space) \n",
    "                      nuts_sampler=\"numpyro\",\n",
    "                      random_seed=rng)\n",
    "\n",
    "    mmm_posterior_predictive = pm.sample_posterior_predictive(trace=trace,\n",
    "                                                              random_seed = rng)\n",
    "train_posterior_predictive_likelihood = az.extract(\n",
    "    data=mmm_posterior_predictive,\n",
    "    group=\"posterior_predictive\",\n",
    "    var_names=\"y_obs\")\n",
    "\n",
    "train_posterior_predictive_likelihood_inv = target_scaler.inverse_transform(X=train_posterior_predictive_likelihood)\n",
    "train_preds = train_posterior_predictive_likelihood_inv.mean(axis=1)\n",
    "\n",
    "mediator_train_posterior_predictive_likelihood = az.extract(\n",
    "    data=mmm_posterior_predictive,\n",
    "    group=\"posterior_predictive\",\n",
    "    var_names=\"mediator_obs\")\n",
    "\n",
    "mediator_train_posterior_predictive_likelihood_inv = mediator_scaler.inverse_transform(X=mediator_train_posterior_predictive_likelihood)\n",
    "mediator_train_preds = mediator_train_posterior_predictive_likelihood_inv.mean(axis=1)\n"
   ]
  },
  {
   "cell_type": "markdown",
   "metadata": {},
   "source": [
    "## Test data"
   ]
  },
  {
   "cell_type": "code",
   "execution_count": null,
   "metadata": {},
   "outputs": [],
   "source": [
    "with mmm:\n",
    "    mmm.coords[date_column] = X_test.index\n",
    "\n",
    "    data_dict = {\n",
    "        \"paid_data\": X_test[FEATURES['features_paid']].to_numpy(),\n",
    "        \"organic_data\": X_test[FEATURES['features_organic']].to_numpy(),\n",
    "        \"competitor_data\": X_test[FEATURES['features_competitor']].to_numpy(),\n",
    "        \"control_data\": X_test[FEATURES['features_control']].to_numpy(),\n",
    "        \"y_obs_data\": y_test,\n",
    "        \n",
    "        \"mediator_paid_data\": X_mediator_test[MEDIATOR_FEATURES['mediator_paid']].to_numpy(),\n",
    "        \"mediator_organic_data\": X_mediator_test[MEDIATOR_FEATURES['mediator_organic']].to_numpy(),\n",
    "        \"mediator_competitor_data\": X_mediator_test[MEDIATOR_FEATURES['mediator_competitor']].to_numpy(),\n",
    "        \"mediator_control_data\": X_mediator_test[MEDIATOR_FEATURES['mediator_control']].to_numpy(),\n",
    "        \"mediator_obs_data\": y_mediator_test\n",
    "    }\n",
    "    \n",
    "    if dependent_variable_trend:\n",
    "        data_dict[\"trend_data\"] = X_test[\"dep_variable_trend_feature\"].to_numpy(dtype=np.float64)\n",
    "    \n",
    "    if dependent_variable_seasonality:\n",
    "        data_dict[\"seasonality_data\"] = X_test[SEASONALITY_CONFIG[\"seasonality_features\"]].to_numpy()\n",
    "    \n",
    "    if mediator_variable_trend:\n",
    "        data_dict[\"mediator_trend_data\"] = X_mediator_test[\"mediator_variable_trend_feature\"].to_numpy(dtype=np.float64)\n",
    "    \n",
    "    pm.set_data(data_dict, coords=mmm.coords)\n",
    "    \n",
    "    test_posterior_predictive = pm.sample_posterior_predictive(\n",
    "        trace, var_names=[\"y_obs\", \"mediator_obs\"], random_seed=rng)\n",
    "    \n",
    "    main_posterior_predictive = az.extract(\n",
    "        data=test_posterior_predictive,\n",
    "        group=\"posterior_predictive\",\n",
    "        var_names=\"y_obs\")\n",
    "    \n",
    "    mediator_posterior_predictive = az.extract(\n",
    "        data=test_posterior_predictive,\n",
    "        group=\"posterior_predictive\",\n",
    "        var_names=\"mediator_obs\")\n",
    "    \n",
    "    main_posterior_predictive_inv = target_scaler.inverse_transform(X=main_posterior_predictive)\n",
    "    mediator_posterior_predictive_inv = mediator_scaler.inverse_transform(X=mediator_posterior_predictive)\n",
    "    \n",
    "    y_pred = main_posterior_predictive_inv.mean(axis=1)\n",
    "    mediator_y_pred = mediator_posterior_predictive_inv.mean(axis=1)\n"
   ]
  },
  {
   "cell_type": "markdown",
   "metadata": {},
   "source": [
    "## Analysis"
   ]
  },
  {
   "cell_type": "code",
   "execution_count": null,
   "metadata": {},
   "outputs": [],
   "source": [
    "\n",
    "evaluation_results = evaluate_mmm_with_mediator(\n",
    "    # Main model evaluation data\n",
    "    unscaled_y_train=unscaled_y_train,\n",
    "    unscaled_y_test=unscaled_y_test,\n",
    "    train_preds=train_preds,\n",
    "    y_pred=y_pred,\n",
    "    \n",
    "    unscaled_y_mediator_train=unscaled_y_mediator_train,\n",
    "    unscaled_y_mediator_test=unscaled_y_mediator_test,\n",
    "    mediator_train_preds=mediator_train_preds,\n",
    "    mediator_y_pred=mediator_y_pred\n",
    ")"
   ]
  },
  {
   "cell_type": "markdown",
   "metadata": {},
   "source": [
    "# Prediction Plots"
   ]
  },
  {
   "cell_type": "code",
   "execution_count": null,
   "metadata": {},
   "outputs": [],
   "source": [
    "time_series_plots = plot_mmm_time_series(\n",
    "    train_index=X_train.index, \n",
    "    test_index=X_test.index,\n",
    "    main_y_train=unscaled_y_train, \n",
    "    main_y_test=unscaled_y_test,\n",
    "    main_train_preds=train_preds, \n",
    "    main_test_preds=y_pred,\n",
    "    mediator_y_train=unscaled_y_mediator_train, \n",
    "    mediator_y_test=unscaled_y_mediator_test,\n",
    "    mediator_train_preds=mediator_train_preds, \n",
    "    mediator_test_preds=mediator_y_pred,\n",
    "    main_y_label=\"Watchtime\", \n",
    "    mediator_y_label=\"DAV\",\n",
    ")\n"
   ]
  },
  {
   "cell_type": "markdown",
   "metadata": {},
   "source": [
    "## Bayesian Traces"
   ]
  },
  {
   "cell_type": "code",
   "execution_count": null,
   "metadata": {},
   "outputs": [],
   "source": [
    "az.plot_trace(trace, var_names=('beta'), filter_vars=\"like\")"
   ]
  },
  {
   "cell_type": "markdown",
   "metadata": {},
   "source": [
    "## Coefficients"
   ]
  },
  {
   "cell_type": "code",
   "execution_count": null,
   "metadata": {},
   "outputs": [],
   "source": [
    "comparison_table = compare_coefficients(trace)"
   ]
  },
  {
   "cell_type": "markdown",
   "metadata": {},
   "source": [
    "## Efficiencies"
   ]
  },
  {
   "cell_type": "code",
   "execution_count": null,
   "metadata": {},
   "outputs": [],
   "source": [
    "fig_plotly = plot_normalized_coefficients(\n",
    "    trace=trace,\n",
    "    include_mediator=True,\n",
    "    figsize=(14, 12)\n",
    ")\n",
    "fig_plotly.show()\n"
   ]
  },
  {
   "cell_type": "markdown",
   "metadata": {},
   "source": [
    "## Contributions"
   ]
  },
  {
   "cell_type": "markdown",
   "metadata": {},
   "source": [
    "### Main Model"
   ]
  },
  {
   "cell_type": "code",
   "execution_count": null,
   "metadata": {},
   "outputs": [],
   "source": [
    "unadj_contributions, adj_contributions = calculate_contributions(\n",
    "    trace=trace, \n",
    "    X_train=X_train,\n",
    "    original_paid_features=FEATURES['features_paid'],\n",
    "    original_competitor_features=FEATURES['features_competitor'],\n",
    "    original_organic_features=FEATURES['features_organic'],\n",
    "    original_control_features=FEATURES['features_control'],\n",
    "    seasonality=False, \n",
    "    trend=False, \n",
    "    intercept=False\n",
    ")\n",
    "contributions_df, fig = plot_contributions(adj_contributions, keep_intercept_trend_season=True)\n",
    "fig\n"
   ]
  },
  {
   "cell_type": "markdown",
   "metadata": {},
   "source": [
    "### Mediator"
   ]
  },
  {
   "cell_type": "code",
   "execution_count": null,
   "metadata": {},
   "outputs": [],
   "source": [
    "mediator_unadj, mediator_adj = calculate_mediator_contributions(\n",
    "    trace=trace, \n",
    "    X_train=X_train,\n",
    "    mediator_paid_features=MEDIATOR_FEATURES['mediator_paid'],\n",
    "    mediator_competitor_features=MEDIATOR_FEATURES['mediator_competitor'],\n",
    "    mediator_organic_features=MEDIATOR_FEATURES['mediator_organic'],\n",
    "    mediator_control_features=MEDIATOR_FEATURES['mediator_control'],\n",
    "    seasonality=False, \n",
    "    trend=False, \n",
    "    intercept=False\n",
    ")\n",
    "mediator_contributions_df, mediator_fig = plot_contributions(\n",
    "    mediator_adj, \n",
    "    keep_intercept_trend_season=True\n",
    ")\n",
    "mediator_fig\n"
   ]
  },
  {
   "cell_type": "markdown",
   "metadata": {},
   "source": [
    "# Adstock"
   ]
  },
  {
   "cell_type": "code",
   "execution_count": null,
   "metadata": {},
   "outputs": [],
   "source": [
    "organic_figures = plot_adstock_effects(\n",
    "    trace=trace,\n",
    "    feature_type=\"organic\",  # Use \"organic\" instead of \"paid\"\n",
    "    include_mediator=True,\n",
    "    l_max=16,\n",
    "    impulse_value=100\n",
    ")\n",
    "\n",
    "organic_figures['main'].show()\n",
    "\n",
    "if 'mediator' in organic_figures:\n",
    "    organic_figures['mediator'].show()\n",
    "organic_combined_fig = plot_combined_adstock_effects(\n",
    "    trace=trace,\n",
    "    feature_type=\"organic\",\n",
    "    l_max=16\n",
    ")\n",
    "organic_combined_fig.show()\n",
    "\n",
    "paid_figures = plot_adstock_effects(\n",
    "    trace=trace,\n",
    "    feature_type=\"paid\",\n",
    "    include_mediator=True\n",
    ")\n",
    "paid_figures['main'].show()\n",
    "\n",
    "alpha = az.summary(trace, var_names='alpha_organic', round_to=3)['mean'].values\n",
    "print(alpha)\n",
    "original_organic_features = list(trace.posterior.coords[\"organic\"].values)\n",
    "\n",
    "data = pd.DataFrame({channel: [100] + [0]* 15 for channel in original_organic_features})\n",
    "data[[paid + '_adstocked' for paid in original_organic_features]] = (\n",
    "    geometric_adstock(x=data[original_organic_features], alpha=alpha, l_max=16, normalize=True).eval()\n",
    ")\n",
    "\n",
    "for channel in original_organic_features:\n",
    "    adstocked_column = channel + '_adstocked'\n",
    "    cumulative_column = channel + '_cumulative'\n",
    "    data[cumulative_column] = data[adstocked_column].cumsum()\n",
    "\n",
    "fig = go.Figure()\n",
    "for channel in original_organic_features:\n",
    "    cumulative_column = channel + '_cumulative'\n",
    "    fig.add_trace(go.Scatter(\n",
    "        x=data.index, \n",
    "        y=data[cumulative_column], \n",
    "        mode='lines+markers', \n",
    "        name=channel.capitalize()\n",
    "    ))\n",
    "    \n",
    "fig.update_layout(\n",
    "    title='Cumulative Adstock Effects for Each Campaign',\n",
    "    xaxis_title='Weeks',\n",
    "    yaxis_title='Cumulative Adstock Effect',\n",
    "    legend_title='Campaign',\n",
    "    template='plotly_white',\n",
    "    width=1200,\n",
    "    height=800\n",
    ")\n",
    "\n",
    "fig.show()"
   ]
  },
  {
   "cell_type": "markdown",
   "metadata": {},
   "source": [
    "## Contributions Over Time"
   ]
  },
  {
   "cell_type": "code",
   "execution_count": null,
   "metadata": {},
   "outputs": [],
   "source": [
    "unadj_contributions, adj_contributions = calculate_contributions(\n",
    "    trace, \n",
    "    X_train, \n",
    "    original_paid_features, \n",
    "    original_competitor_features, \n",
    "    original_organic_features, \n",
    "    original_control_features,\n",
    "    seasonality=False, \n",
    "    trend=False, \n",
    "    intercept=False\n",
    ")\n",
    "\n",
    "fig = plot_contributions_over_time(\n",
    "    unadj_contributions=unadj_contributions,\n",
    "    plot_order=['DAVs_daily_active_viewers_viewers_activity', 'youtube_brand_index', 'novelty_score_WT'],\n",
    "    title=\"Predicted Watchtime and Breakdown\"\n",
    ")\n",
    "\n",
    "fig.show()"
   ]
  },
  {
   "cell_type": "code",
   "execution_count": null,
   "metadata": {},
   "outputs": [],
   "source": [
    "mediator_unadj, mediator_adj = calculate_mediator_contributions(\n",
    "    trace, \n",
    "    X_train, \n",
    "    mediator_paid_features, \n",
    "    mediator_competitor_features, \n",
    "    mediator_organic_features, \n",
    "    mediator_control_features,\n",
    "    seasonality=False, \n",
    "    trend=False, \n",
    "    intercept=False\n",
    ")\n",
    "\n",
    "mediator_fig = plot_contributions_over_time(\n",
    "    unadj_contributions=mediator_unadj,\n",
    "    plot_order=['DAVs_daily_active_viewers_viewers_activity', 'youtube_brand_index', 'novelty_score_WT'],\n",
    "    title=\"Predicted Mediator Contribution and Breakdown\"\n",
    ")\n",
    "\n",
    "mediator_fig.show()"
   ]
  }
 ],
 "metadata": {
  "kernelspec": {
   "display_name": "youtube_drivers",
   "language": "python",
   "name": "python3"
  },
  "language_info": {
   "codemirror_mode": {
    "name": "ipython",
    "version": 3
   },
   "file_extension": ".py",
   "mimetype": "text/x-python",
   "name": "python",
   "nbconvert_exporter": "python",
   "pygments_lexer": "ipython3",
   "version": "3.11.11"
  }
 },
 "nbformat": 4,
 "nbformat_minor": 2
}
